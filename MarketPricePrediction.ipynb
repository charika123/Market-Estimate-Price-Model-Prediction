{
 "cells": [
  {
   "attachments": {},
   "cell_type": "markdown",
   "metadata": {},
   "source": [
    "## Market Price Estimate Model Prediction"
   ]
  },
  {
   "attachments": {},
   "cell_type": "markdown",
   "metadata": {},
   "source": [
    "dataset from \"https://www.kaggle.com/datasets/febinphilips/us-house-listings-2023?select=cleaned_df.csv\""
   ]
  },
  {
   "attachments": {},
   "cell_type": "markdown",
   "metadata": {},
   "source": [
    "In the scope of this project, I will conduct an in-depth exploration of a Zillow house dataset encompassing listing information from all 50 American states. Despite the dataset being \"cleaned,\" certain rows still consist missing values in the 'Market Estimate' and 'Rent Estimate' columns, due to Zillow's lack of information for those sp listings. \n",
    "\n",
    "The primary goal of this project is to contruct and figure out what factors affect the linear regression model aimed at predicting the Market Estimate price.I will employ various strategies to enhance the model's accuracy. First, I will build a simple linear regression model where the Area predicts the Market Estimate Price. Then, I will look at the impact of outlier removal and see how that effects the model's predictive accuracy. Lastly, I will incoorporate additional features, namely the Bedroom, Bathroom, and PricePerSqft columns, into the model to see the changes in the predictions. This multi step approach uncovers insights into the nuances of the dataset and helps me understand the model's resilience to different preprocessing techniques."
   ]
  },
  {
   "attachments": {},
   "cell_type": "markdown",
   "metadata": {},
   "source": [
    "Import statements and loading the dataset"
   ]
  },
  {
   "cell_type": "code",
   "execution_count": 137,
   "metadata": {},
   "outputs": [],
   "source": [
    "import pandas as pd\n",
    "import numpy as np\n",
    "import seaborn as sns\n",
    "import matplotlib.pyplot as plt\n",
    "\n",
    "import warnings \n",
    "warnings.filterwarnings(\"ignore\")"
   ]
  },
  {
   "cell_type": "code",
   "execution_count": 138,
   "metadata": {},
   "outputs": [
    {
     "data": {
      "text/html": [
       "<div>\n",
       "<style scoped>\n",
       "    .dataframe tbody tr th:only-of-type {\n",
       "        vertical-align: middle;\n",
       "    }\n",
       "\n",
       "    .dataframe tbody tr th {\n",
       "        vertical-align: top;\n",
       "    }\n",
       "\n",
       "    .dataframe thead th {\n",
       "        text-align: right;\n",
       "    }\n",
       "</style>\n",
       "<table border=\"1\" class=\"dataframe\">\n",
       "  <thead>\n",
       "    <tr style=\"text-align: right;\">\n",
       "      <th></th>\n",
       "      <th>State</th>\n",
       "      <th>City</th>\n",
       "      <th>Street</th>\n",
       "      <th>Zipcode</th>\n",
       "      <th>Bedroom</th>\n",
       "      <th>Bathroom</th>\n",
       "      <th>Area</th>\n",
       "      <th>PPSq</th>\n",
       "      <th>LotArea</th>\n",
       "      <th>MarketEstimate</th>\n",
       "      <th>RentEstimate</th>\n",
       "      <th>Latitude</th>\n",
       "      <th>Longitude</th>\n",
       "      <th>ListedPrice</th>\n",
       "    </tr>\n",
       "  </thead>\n",
       "  <tbody>\n",
       "    <tr>\n",
       "      <th>0</th>\n",
       "      <td>AL</td>\n",
       "      <td>Saraland</td>\n",
       "      <td>Scott Dr</td>\n",
       "      <td>36571.0</td>\n",
       "      <td>4.0</td>\n",
       "      <td>2.0</td>\n",
       "      <td>1614.0</td>\n",
       "      <td>148.636927</td>\n",
       "      <td>0.3805</td>\n",
       "      <td>240600.0</td>\n",
       "      <td>1599.0</td>\n",
       "      <td>30.819534</td>\n",
       "      <td>-88.095960</td>\n",
       "      <td>239900.0</td>\n",
       "    </tr>\n",
       "    <tr>\n",
       "      <th>1</th>\n",
       "      <td>AL</td>\n",
       "      <td>Robertsdale</td>\n",
       "      <td>Cowpen Creek Rd</td>\n",
       "      <td>36567.0</td>\n",
       "      <td>3.0</td>\n",
       "      <td>2.0</td>\n",
       "      <td>1800.0</td>\n",
       "      <td>144.388889</td>\n",
       "      <td>3.2000</td>\n",
       "      <td>NaN</td>\n",
       "      <td>NaN</td>\n",
       "      <td>30.590004</td>\n",
       "      <td>-87.580376</td>\n",
       "      <td>259900.0</td>\n",
       "    </tr>\n",
       "    <tr>\n",
       "      <th>2</th>\n",
       "      <td>AL</td>\n",
       "      <td>Gulf Shores</td>\n",
       "      <td>Spinnaker Dr #201</td>\n",
       "      <td>36542.0</td>\n",
       "      <td>2.0</td>\n",
       "      <td>2.0</td>\n",
       "      <td>1250.0</td>\n",
       "      <td>274.000000</td>\n",
       "      <td>NaN</td>\n",
       "      <td>NaN</td>\n",
       "      <td>NaN</td>\n",
       "      <td>30.284956</td>\n",
       "      <td>-87.747920</td>\n",
       "      <td>342500.0</td>\n",
       "    </tr>\n",
       "    <tr>\n",
       "      <th>3</th>\n",
       "      <td>AL</td>\n",
       "      <td>Chelsea</td>\n",
       "      <td>Mallet Way</td>\n",
       "      <td>35043.0</td>\n",
       "      <td>3.0</td>\n",
       "      <td>3.0</td>\n",
       "      <td>2224.0</td>\n",
       "      <td>150.629496</td>\n",
       "      <td>0.2600</td>\n",
       "      <td>336200.0</td>\n",
       "      <td>1932.0</td>\n",
       "      <td>33.357986</td>\n",
       "      <td>-86.608700</td>\n",
       "      <td>335000.0</td>\n",
       "    </tr>\n",
       "    <tr>\n",
       "      <th>4</th>\n",
       "      <td>AL</td>\n",
       "      <td>Huntsville</td>\n",
       "      <td>Turtlebrook Ct</td>\n",
       "      <td>35811.0</td>\n",
       "      <td>3.0</td>\n",
       "      <td>2.0</td>\n",
       "      <td>1225.0</td>\n",
       "      <td>204.081633</td>\n",
       "      <td>NaN</td>\n",
       "      <td>222700.0</td>\n",
       "      <td>1679.0</td>\n",
       "      <td>34.775517</td>\n",
       "      <td>-86.440700</td>\n",
       "      <td>250000.0</td>\n",
       "    </tr>\n",
       "  </tbody>\n",
       "</table>\n",
       "</div>"
      ],
      "text/plain": [
       "  State         City             Street  Zipcode  Bedroom  Bathroom    Area  \\\n",
       "0    AL     Saraland           Scott Dr  36571.0      4.0       2.0  1614.0   \n",
       "1    AL  Robertsdale    Cowpen Creek Rd  36567.0      3.0       2.0  1800.0   \n",
       "2    AL  Gulf Shores  Spinnaker Dr #201  36542.0      2.0       2.0  1250.0   \n",
       "3    AL      Chelsea         Mallet Way  35043.0      3.0       3.0  2224.0   \n",
       "4    AL   Huntsville     Turtlebrook Ct  35811.0      3.0       2.0  1225.0   \n",
       "\n",
       "         PPSq  LotArea  MarketEstimate  RentEstimate   Latitude  Longitude  \\\n",
       "0  148.636927   0.3805        240600.0        1599.0  30.819534 -88.095960   \n",
       "1  144.388889   3.2000             NaN           NaN  30.590004 -87.580376   \n",
       "2  274.000000      NaN             NaN           NaN  30.284956 -87.747920   \n",
       "3  150.629496   0.2600        336200.0        1932.0  33.357986 -86.608700   \n",
       "4  204.081633      NaN        222700.0        1679.0  34.775517 -86.440700   \n",
       "\n",
       "   ListedPrice  \n",
       "0     239900.0  \n",
       "1     259900.0  \n",
       "2     342500.0  \n",
       "3     335000.0  \n",
       "4     250000.0  "
      ]
     },
     "execution_count": 138,
     "metadata": {},
     "output_type": "execute_result"
    }
   ],
   "source": [
    "df = pd.read_csv(\"/Users/charikajangili/Downloads/archive/cleaned_df.csv\")\n",
    "df.head()"
   ]
  },
  {
   "cell_type": "code",
   "execution_count": 139,
   "metadata": {},
   "outputs": [
    {
     "name": "stdout",
     "output_type": "stream",
     "text": [
      "<class 'pandas.core.frame.DataFrame'>\n",
      "RangeIndex: 22681 entries, 0 to 22680\n",
      "Data columns (total 14 columns):\n",
      " #   Column          Non-Null Count  Dtype  \n",
      "---  ------          --------------  -----  \n",
      " 0   State           22681 non-null  object \n",
      " 1   City            22681 non-null  object \n",
      " 2   Street          22681 non-null  object \n",
      " 3   Zipcode         22681 non-null  float64\n",
      " 4   Bedroom         22667 non-null  float64\n",
      " 5   Bathroom        22647 non-null  float64\n",
      " 6   Area            22681 non-null  float64\n",
      " 7   PPSq            22681 non-null  float64\n",
      " 8   LotArea         21779 non-null  float64\n",
      " 9   MarketEstimate  15445 non-null  float64\n",
      " 10  RentEstimate    16705 non-null  float64\n",
      " 11  Latitude        22681 non-null  float64\n",
      " 12  Longitude       22681 non-null  float64\n",
      " 13  ListedPrice     22681 non-null  float64\n",
      "dtypes: float64(11), object(3)\n",
      "memory usage: 2.4+ MB\n"
     ]
    }
   ],
   "source": [
    "df.info()"
   ]
  },
  {
   "attachments": {},
   "cell_type": "markdown",
   "metadata": {},
   "source": [
    "Filtering the dataset for the purposes of this project"
   ]
  },
  {
   "cell_type": "code",
   "execution_count": 140,
   "metadata": {},
   "outputs": [
    {
     "data": {
      "text/html": [
       "<div>\n",
       "<style scoped>\n",
       "    .dataframe tbody tr th:only-of-type {\n",
       "        vertical-align: middle;\n",
       "    }\n",
       "\n",
       "    .dataframe tbody tr th {\n",
       "        vertical-align: top;\n",
       "    }\n",
       "\n",
       "    .dataframe thead th {\n",
       "        text-align: right;\n",
       "    }\n",
       "</style>\n",
       "<table border=\"1\" class=\"dataframe\">\n",
       "  <thead>\n",
       "    <tr style=\"text-align: right;\">\n",
       "      <th></th>\n",
       "      <th>State</th>\n",
       "      <th>City</th>\n",
       "      <th>Street</th>\n",
       "      <th>Zipcode</th>\n",
       "      <th>Bedroom</th>\n",
       "      <th>Bathroom</th>\n",
       "      <th>Area</th>\n",
       "      <th>PPSq</th>\n",
       "      <th>LotArea</th>\n",
       "      <th>MarketEstimate</th>\n",
       "      <th>RentEstimate</th>\n",
       "      <th>Latitude</th>\n",
       "      <th>Longitude</th>\n",
       "      <th>ListedPrice</th>\n",
       "    </tr>\n",
       "  </thead>\n",
       "  <tbody>\n",
       "    <tr>\n",
       "      <th>0</th>\n",
       "      <td>AL</td>\n",
       "      <td>Saraland</td>\n",
       "      <td>Scott Dr</td>\n",
       "      <td>36571.0</td>\n",
       "      <td>4.0</td>\n",
       "      <td>2.0</td>\n",
       "      <td>1614.0</td>\n",
       "      <td>148.636927</td>\n",
       "      <td>0.3805</td>\n",
       "      <td>240600.0</td>\n",
       "      <td>1599.0</td>\n",
       "      <td>30.819534</td>\n",
       "      <td>-88.095960</td>\n",
       "      <td>239900.0</td>\n",
       "    </tr>\n",
       "    <tr>\n",
       "      <th>3</th>\n",
       "      <td>AL</td>\n",
       "      <td>Chelsea</td>\n",
       "      <td>Mallet Way</td>\n",
       "      <td>35043.0</td>\n",
       "      <td>3.0</td>\n",
       "      <td>3.0</td>\n",
       "      <td>2224.0</td>\n",
       "      <td>150.629496</td>\n",
       "      <td>0.2600</td>\n",
       "      <td>336200.0</td>\n",
       "      <td>1932.0</td>\n",
       "      <td>33.357986</td>\n",
       "      <td>-86.608700</td>\n",
       "      <td>335000.0</td>\n",
       "    </tr>\n",
       "    <tr>\n",
       "      <th>4</th>\n",
       "      <td>AL</td>\n",
       "      <td>Huntsville</td>\n",
       "      <td>Turtlebrook Ct</td>\n",
       "      <td>35811.0</td>\n",
       "      <td>3.0</td>\n",
       "      <td>2.0</td>\n",
       "      <td>1225.0</td>\n",
       "      <td>204.081633</td>\n",
       "      <td>NaN</td>\n",
       "      <td>222700.0</td>\n",
       "      <td>1679.0</td>\n",
       "      <td>34.775517</td>\n",
       "      <td>-86.440700</td>\n",
       "      <td>250000.0</td>\n",
       "    </tr>\n",
       "    <tr>\n",
       "      <th>5</th>\n",
       "      <td>AL</td>\n",
       "      <td>Montgomery</td>\n",
       "      <td>Brampton Ln</td>\n",
       "      <td>36117.0</td>\n",
       "      <td>3.0</td>\n",
       "      <td>2.0</td>\n",
       "      <td>1564.0</td>\n",
       "      <td>96.547315</td>\n",
       "      <td>0.2000</td>\n",
       "      <td>150500.0</td>\n",
       "      <td>1385.0</td>\n",
       "      <td>32.372746</td>\n",
       "      <td>-86.165115</td>\n",
       "      <td>151000.0</td>\n",
       "    </tr>\n",
       "    <tr>\n",
       "      <th>6</th>\n",
       "      <td>AL</td>\n",
       "      <td>Boaz</td>\n",
       "      <td>Greenwood Ave</td>\n",
       "      <td>35957.0</td>\n",
       "      <td>3.0</td>\n",
       "      <td>2.0</td>\n",
       "      <td>1717.0</td>\n",
       "      <td>139.196273</td>\n",
       "      <td>0.3800</td>\n",
       "      <td>238400.0</td>\n",
       "      <td>2125.0</td>\n",
       "      <td>34.210014</td>\n",
       "      <td>-86.136690</td>\n",
       "      <td>239000.0</td>\n",
       "    </tr>\n",
       "    <tr>\n",
       "      <th>...</th>\n",
       "      <td>...</td>\n",
       "      <td>...</td>\n",
       "      <td>...</td>\n",
       "      <td>...</td>\n",
       "      <td>...</td>\n",
       "      <td>...</td>\n",
       "      <td>...</td>\n",
       "      <td>...</td>\n",
       "      <td>...</td>\n",
       "      <td>...</td>\n",
       "      <td>...</td>\n",
       "      <td>...</td>\n",
       "      <td>...</td>\n",
       "      <td>...</td>\n",
       "    </tr>\n",
       "    <tr>\n",
       "      <th>22674</th>\n",
       "      <td>WY</td>\n",
       "      <td>Douglas</td>\n",
       "      <td>Bar Two Dr</td>\n",
       "      <td>82633.0</td>\n",
       "      <td>3.0</td>\n",
       "      <td>3.0</td>\n",
       "      <td>2316.0</td>\n",
       "      <td>133.851468</td>\n",
       "      <td>0.1500</td>\n",
       "      <td>306700.0</td>\n",
       "      <td>1724.0</td>\n",
       "      <td>42.756350</td>\n",
       "      <td>-105.399580</td>\n",
       "      <td>310000.0</td>\n",
       "    </tr>\n",
       "    <tr>\n",
       "      <th>22675</th>\n",
       "      <td>WY</td>\n",
       "      <td>Riverton</td>\n",
       "      <td>Riverview Rd</td>\n",
       "      <td>82501.0</td>\n",
       "      <td>3.0</td>\n",
       "      <td>3.0</td>\n",
       "      <td>2400.0</td>\n",
       "      <td>77.083333</td>\n",
       "      <td>3.3500</td>\n",
       "      <td>184500.0</td>\n",
       "      <td>1999.0</td>\n",
       "      <td>43.077744</td>\n",
       "      <td>-108.558960</td>\n",
       "      <td>185000.0</td>\n",
       "    </tr>\n",
       "    <tr>\n",
       "      <th>22676</th>\n",
       "      <td>WY</td>\n",
       "      <td>Burns</td>\n",
       "      <td>Road 210a</td>\n",
       "      <td>82053.0</td>\n",
       "      <td>2.0</td>\n",
       "      <td>1.0</td>\n",
       "      <td>1112.0</td>\n",
       "      <td>337.230216</td>\n",
       "      <td>20.0000</td>\n",
       "      <td>368600.0</td>\n",
       "      <td>1500.0</td>\n",
       "      <td>41.149517</td>\n",
       "      <td>-104.439620</td>\n",
       "      <td>375000.0</td>\n",
       "    </tr>\n",
       "    <tr>\n",
       "      <th>22679</th>\n",
       "      <td>WY</td>\n",
       "      <td>Cheyenne</td>\n",
       "      <td>Carolina Rd</td>\n",
       "      <td>82009.0</td>\n",
       "      <td>3.0</td>\n",
       "      <td>2.0</td>\n",
       "      <td>2930.0</td>\n",
       "      <td>196.552901</td>\n",
       "      <td>6.2300</td>\n",
       "      <td>558000.0</td>\n",
       "      <td>2749.0</td>\n",
       "      <td>41.138450</td>\n",
       "      <td>-105.052790</td>\n",
       "      <td>575900.0</td>\n",
       "    </tr>\n",
       "    <tr>\n",
       "      <th>22680</th>\n",
       "      <td>WY</td>\n",
       "      <td>Evansville</td>\n",
       "      <td>6th St</td>\n",
       "      <td>82636.0</td>\n",
       "      <td>3.0</td>\n",
       "      <td>3.0</td>\n",
       "      <td>2300.0</td>\n",
       "      <td>143.434783</td>\n",
       "      <td>0.1739</td>\n",
       "      <td>329500.0</td>\n",
       "      <td>1614.0</td>\n",
       "      <td>42.865440</td>\n",
       "      <td>-106.277450</td>\n",
       "      <td>329900.0</td>\n",
       "    </tr>\n",
       "  </tbody>\n",
       "</table>\n",
       "<p>15445 rows × 14 columns</p>\n",
       "</div>"
      ],
      "text/plain": [
       "      State        City          Street  Zipcode  Bedroom  Bathroom    Area  \\\n",
       "0        AL    Saraland        Scott Dr  36571.0      4.0       2.0  1614.0   \n",
       "3        AL     Chelsea      Mallet Way  35043.0      3.0       3.0  2224.0   \n",
       "4        AL  Huntsville  Turtlebrook Ct  35811.0      3.0       2.0  1225.0   \n",
       "5        AL  Montgomery     Brampton Ln  36117.0      3.0       2.0  1564.0   \n",
       "6        AL        Boaz   Greenwood Ave  35957.0      3.0       2.0  1717.0   \n",
       "...     ...         ...             ...      ...      ...       ...     ...   \n",
       "22674    WY     Douglas      Bar Two Dr  82633.0      3.0       3.0  2316.0   \n",
       "22675    WY    Riverton    Riverview Rd  82501.0      3.0       3.0  2400.0   \n",
       "22676    WY       Burns       Road 210a  82053.0      2.0       1.0  1112.0   \n",
       "22679    WY    Cheyenne     Carolina Rd  82009.0      3.0       2.0  2930.0   \n",
       "22680    WY  Evansville          6th St  82636.0      3.0       3.0  2300.0   \n",
       "\n",
       "             PPSq  LotArea  MarketEstimate  RentEstimate   Latitude  \\\n",
       "0      148.636927   0.3805        240600.0        1599.0  30.819534   \n",
       "3      150.629496   0.2600        336200.0        1932.0  33.357986   \n",
       "4      204.081633      NaN        222700.0        1679.0  34.775517   \n",
       "5       96.547315   0.2000        150500.0        1385.0  32.372746   \n",
       "6      139.196273   0.3800        238400.0        2125.0  34.210014   \n",
       "...           ...      ...             ...           ...        ...   \n",
       "22674  133.851468   0.1500        306700.0        1724.0  42.756350   \n",
       "22675   77.083333   3.3500        184500.0        1999.0  43.077744   \n",
       "22676  337.230216  20.0000        368600.0        1500.0  41.149517   \n",
       "22679  196.552901   6.2300        558000.0        2749.0  41.138450   \n",
       "22680  143.434783   0.1739        329500.0        1614.0  42.865440   \n",
       "\n",
       "        Longitude  ListedPrice  \n",
       "0      -88.095960     239900.0  \n",
       "3      -86.608700     335000.0  \n",
       "4      -86.440700     250000.0  \n",
       "5      -86.165115     151000.0  \n",
       "6      -86.136690     239000.0  \n",
       "...           ...          ...  \n",
       "22674 -105.399580     310000.0  \n",
       "22675 -108.558960     185000.0  \n",
       "22676 -104.439620     375000.0  \n",
       "22679 -105.052790     575900.0  \n",
       "22680 -106.277450     329900.0  \n",
       "\n",
       "[15445 rows x 14 columns]"
      ]
     },
     "execution_count": 140,
     "metadata": {},
     "output_type": "execute_result"
    }
   ],
   "source": [
    "data = df.loc[(df[\"MarketEstimate\"]> 0)]\n",
    "data"
   ]
  },
  {
   "cell_type": "code",
   "execution_count": 141,
   "metadata": {},
   "outputs": [],
   "source": [
    "data.drop(columns=[\"Latitude\",\"Longitude\"], inplace=True)"
   ]
  },
  {
   "attachments": {},
   "cell_type": "markdown",
   "metadata": {},
   "source": [
    "### Data Cleaning"
   ]
  },
  {
   "cell_type": "code",
   "execution_count": 142,
   "metadata": {},
   "outputs": [
    {
     "data": {
      "text/plain": [
       "State               0\n",
       "City                0\n",
       "Street              0\n",
       "Zipcode             0\n",
       "Bedroom             5\n",
       "Bathroom           20\n",
       "Area                0\n",
       "PPSq                0\n",
       "LotArea           529\n",
       "MarketEstimate      0\n",
       "RentEstimate       48\n",
       "ListedPrice         0\n",
       "dtype: int64"
      ]
     },
     "execution_count": 142,
     "metadata": {},
     "output_type": "execute_result"
    }
   ],
   "source": [
    "data.isna().sum()"
   ]
  },
  {
   "attachments": {},
   "cell_type": "markdown",
   "metadata": {},
   "source": [
    "Cleaning columns I will be using for the models"
   ]
  },
  {
   "cell_type": "code",
   "execution_count": 143,
   "metadata": {},
   "outputs": [],
   "source": [
    "data.dropna(subset=[\"Bedroom\", \"Bathroom\"], how=\"any\", inplace=True)"
   ]
  },
  {
   "cell_type": "code",
   "execution_count": 144,
   "metadata": {},
   "outputs": [
    {
     "data": {
      "text/plain": [
       "(15423, 12)"
      ]
     },
     "execution_count": 144,
     "metadata": {},
     "output_type": "execute_result"
    }
   ],
   "source": [
    "data.shape"
   ]
  },
  {
   "attachments": {},
   "cell_type": "markdown",
   "metadata": {},
   "source": [
    "Renaming \"PPSq\" for better understanding of the column"
   ]
  },
  {
   "cell_type": "code",
   "execution_count": 145,
   "metadata": {},
   "outputs": [],
   "source": [
    "data.rename(columns={\"PPSq\" : \"PricePerSqft\"}, inplace=True)"
   ]
  },
  {
   "attachments": {},
   "cell_type": "markdown",
   "metadata": {},
   "source": [
    "Changing dtypes"
   ]
  },
  {
   "cell_type": "code",
   "execution_count": 146,
   "metadata": {},
   "outputs": [],
   "source": [
    "data[\"Zipcode\"] = data[\"Zipcode\"].astype(str)\n",
    "data[\"Bedroom\"] = data[\"Bedroom\"].astype(int)"
   ]
  },
  {
   "attachments": {},
   "cell_type": "markdown",
   "metadata": {},
   "source": [
    "Rounding to reflect monetary values"
   ]
  },
  {
   "cell_type": "code",
   "execution_count": 147,
   "metadata": {},
   "outputs": [
    {
     "data": {
      "text/html": [
       "<div>\n",
       "<style scoped>\n",
       "    .dataframe tbody tr th:only-of-type {\n",
       "        vertical-align: middle;\n",
       "    }\n",
       "\n",
       "    .dataframe tbody tr th {\n",
       "        vertical-align: top;\n",
       "    }\n",
       "\n",
       "    .dataframe thead th {\n",
       "        text-align: right;\n",
       "    }\n",
       "</style>\n",
       "<table border=\"1\" class=\"dataframe\">\n",
       "  <thead>\n",
       "    <tr style=\"text-align: right;\">\n",
       "      <th></th>\n",
       "      <th>State</th>\n",
       "      <th>City</th>\n",
       "      <th>Street</th>\n",
       "      <th>Zipcode</th>\n",
       "      <th>Bedroom</th>\n",
       "      <th>Bathroom</th>\n",
       "      <th>Area</th>\n",
       "      <th>PricePerSqft</th>\n",
       "      <th>LotArea</th>\n",
       "      <th>MarketEstimate</th>\n",
       "      <th>RentEstimate</th>\n",
       "      <th>ListedPrice</th>\n",
       "    </tr>\n",
       "  </thead>\n",
       "  <tbody>\n",
       "    <tr>\n",
       "      <th>0</th>\n",
       "      <td>AL</td>\n",
       "      <td>Saraland</td>\n",
       "      <td>Scott Dr</td>\n",
       "      <td>36571.0</td>\n",
       "      <td>4</td>\n",
       "      <td>2.0</td>\n",
       "      <td>1614.0</td>\n",
       "      <td>148.64</td>\n",
       "      <td>0.3805</td>\n",
       "      <td>240600.0</td>\n",
       "      <td>1599.0</td>\n",
       "      <td>239900.0</td>\n",
       "    </tr>\n",
       "    <tr>\n",
       "      <th>3</th>\n",
       "      <td>AL</td>\n",
       "      <td>Chelsea</td>\n",
       "      <td>Mallet Way</td>\n",
       "      <td>35043.0</td>\n",
       "      <td>3</td>\n",
       "      <td>3.0</td>\n",
       "      <td>2224.0</td>\n",
       "      <td>150.63</td>\n",
       "      <td>0.2600</td>\n",
       "      <td>336200.0</td>\n",
       "      <td>1932.0</td>\n",
       "      <td>335000.0</td>\n",
       "    </tr>\n",
       "    <tr>\n",
       "      <th>4</th>\n",
       "      <td>AL</td>\n",
       "      <td>Huntsville</td>\n",
       "      <td>Turtlebrook Ct</td>\n",
       "      <td>35811.0</td>\n",
       "      <td>3</td>\n",
       "      <td>2.0</td>\n",
       "      <td>1225.0</td>\n",
       "      <td>204.08</td>\n",
       "      <td>NaN</td>\n",
       "      <td>222700.0</td>\n",
       "      <td>1679.0</td>\n",
       "      <td>250000.0</td>\n",
       "    </tr>\n",
       "    <tr>\n",
       "      <th>5</th>\n",
       "      <td>AL</td>\n",
       "      <td>Montgomery</td>\n",
       "      <td>Brampton Ln</td>\n",
       "      <td>36117.0</td>\n",
       "      <td>3</td>\n",
       "      <td>2.0</td>\n",
       "      <td>1564.0</td>\n",
       "      <td>96.55</td>\n",
       "      <td>0.2000</td>\n",
       "      <td>150500.0</td>\n",
       "      <td>1385.0</td>\n",
       "      <td>151000.0</td>\n",
       "    </tr>\n",
       "    <tr>\n",
       "      <th>6</th>\n",
       "      <td>AL</td>\n",
       "      <td>Boaz</td>\n",
       "      <td>Greenwood Ave</td>\n",
       "      <td>35957.0</td>\n",
       "      <td>3</td>\n",
       "      <td>2.0</td>\n",
       "      <td>1717.0</td>\n",
       "      <td>139.20</td>\n",
       "      <td>0.3800</td>\n",
       "      <td>238400.0</td>\n",
       "      <td>2125.0</td>\n",
       "      <td>239000.0</td>\n",
       "    </tr>\n",
       "    <tr>\n",
       "      <th>...</th>\n",
       "      <td>...</td>\n",
       "      <td>...</td>\n",
       "      <td>...</td>\n",
       "      <td>...</td>\n",
       "      <td>...</td>\n",
       "      <td>...</td>\n",
       "      <td>...</td>\n",
       "      <td>...</td>\n",
       "      <td>...</td>\n",
       "      <td>...</td>\n",
       "      <td>...</td>\n",
       "      <td>...</td>\n",
       "    </tr>\n",
       "    <tr>\n",
       "      <th>22674</th>\n",
       "      <td>WY</td>\n",
       "      <td>Douglas</td>\n",
       "      <td>Bar Two Dr</td>\n",
       "      <td>82633.0</td>\n",
       "      <td>3</td>\n",
       "      <td>3.0</td>\n",
       "      <td>2316.0</td>\n",
       "      <td>133.85</td>\n",
       "      <td>0.1500</td>\n",
       "      <td>306700.0</td>\n",
       "      <td>1724.0</td>\n",
       "      <td>310000.0</td>\n",
       "    </tr>\n",
       "    <tr>\n",
       "      <th>22675</th>\n",
       "      <td>WY</td>\n",
       "      <td>Riverton</td>\n",
       "      <td>Riverview Rd</td>\n",
       "      <td>82501.0</td>\n",
       "      <td>3</td>\n",
       "      <td>3.0</td>\n",
       "      <td>2400.0</td>\n",
       "      <td>77.08</td>\n",
       "      <td>3.3500</td>\n",
       "      <td>184500.0</td>\n",
       "      <td>1999.0</td>\n",
       "      <td>185000.0</td>\n",
       "    </tr>\n",
       "    <tr>\n",
       "      <th>22676</th>\n",
       "      <td>WY</td>\n",
       "      <td>Burns</td>\n",
       "      <td>Road 210a</td>\n",
       "      <td>82053.0</td>\n",
       "      <td>2</td>\n",
       "      <td>1.0</td>\n",
       "      <td>1112.0</td>\n",
       "      <td>337.23</td>\n",
       "      <td>20.0000</td>\n",
       "      <td>368600.0</td>\n",
       "      <td>1500.0</td>\n",
       "      <td>375000.0</td>\n",
       "    </tr>\n",
       "    <tr>\n",
       "      <th>22679</th>\n",
       "      <td>WY</td>\n",
       "      <td>Cheyenne</td>\n",
       "      <td>Carolina Rd</td>\n",
       "      <td>82009.0</td>\n",
       "      <td>3</td>\n",
       "      <td>2.0</td>\n",
       "      <td>2930.0</td>\n",
       "      <td>196.55</td>\n",
       "      <td>6.2300</td>\n",
       "      <td>558000.0</td>\n",
       "      <td>2749.0</td>\n",
       "      <td>575900.0</td>\n",
       "    </tr>\n",
       "    <tr>\n",
       "      <th>22680</th>\n",
       "      <td>WY</td>\n",
       "      <td>Evansville</td>\n",
       "      <td>6th St</td>\n",
       "      <td>82636.0</td>\n",
       "      <td>3</td>\n",
       "      <td>3.0</td>\n",
       "      <td>2300.0</td>\n",
       "      <td>143.43</td>\n",
       "      <td>0.1739</td>\n",
       "      <td>329500.0</td>\n",
       "      <td>1614.0</td>\n",
       "      <td>329900.0</td>\n",
       "    </tr>\n",
       "  </tbody>\n",
       "</table>\n",
       "<p>15423 rows × 12 columns</p>\n",
       "</div>"
      ],
      "text/plain": [
       "      State        City          Street  Zipcode  Bedroom  Bathroom    Area  \\\n",
       "0        AL    Saraland        Scott Dr  36571.0        4       2.0  1614.0   \n",
       "3        AL     Chelsea      Mallet Way  35043.0        3       3.0  2224.0   \n",
       "4        AL  Huntsville  Turtlebrook Ct  35811.0        3       2.0  1225.0   \n",
       "5        AL  Montgomery     Brampton Ln  36117.0        3       2.0  1564.0   \n",
       "6        AL        Boaz   Greenwood Ave  35957.0        3       2.0  1717.0   \n",
       "...     ...         ...             ...      ...      ...       ...     ...   \n",
       "22674    WY     Douglas      Bar Two Dr  82633.0        3       3.0  2316.0   \n",
       "22675    WY    Riverton    Riverview Rd  82501.0        3       3.0  2400.0   \n",
       "22676    WY       Burns       Road 210a  82053.0        2       1.0  1112.0   \n",
       "22679    WY    Cheyenne     Carolina Rd  82009.0        3       2.0  2930.0   \n",
       "22680    WY  Evansville          6th St  82636.0        3       3.0  2300.0   \n",
       "\n",
       "       PricePerSqft  LotArea  MarketEstimate  RentEstimate  ListedPrice  \n",
       "0            148.64   0.3805        240600.0        1599.0     239900.0  \n",
       "3            150.63   0.2600        336200.0        1932.0     335000.0  \n",
       "4            204.08      NaN        222700.0        1679.0     250000.0  \n",
       "5             96.55   0.2000        150500.0        1385.0     151000.0  \n",
       "6            139.20   0.3800        238400.0        2125.0     239000.0  \n",
       "...             ...      ...             ...           ...          ...  \n",
       "22674        133.85   0.1500        306700.0        1724.0     310000.0  \n",
       "22675         77.08   3.3500        184500.0        1999.0     185000.0  \n",
       "22676        337.23  20.0000        368600.0        1500.0     375000.0  \n",
       "22679        196.55   6.2300        558000.0        2749.0     575900.0  \n",
       "22680        143.43   0.1739        329500.0        1614.0     329900.0  \n",
       "\n",
       "[15423 rows x 12 columns]"
      ]
     },
     "execution_count": 147,
     "metadata": {},
     "output_type": "execute_result"
    }
   ],
   "source": [
    "data[\"PricePerSqft\"] = data[\"PricePerSqft\"].round(2)\n",
    "data"
   ]
  },
  {
   "cell_type": "code",
   "execution_count": 148,
   "metadata": {},
   "outputs": [
    {
     "data": {
      "text/plain": [
       "[2.0,\n",
       " 3.0,\n",
       " 1.0,\n",
       " 4.0,\n",
       " 5.0,\n",
       " 6.0,\n",
       " 0.0,\n",
       " 2.5,\n",
       " 7.0,\n",
       " 8.0,\n",
       " 9.0,\n",
       " 11.0,\n",
       " 12.0,\n",
       " 1.5,\n",
       " 1.75,\n",
       " 0.75,\n",
       " 3.5,\n",
       " 4.5,\n",
       " 13.0,\n",
       " 10.0,\n",
       " 14.0,\n",
       " 3.0999999046325684,\n",
       " 2.0999999046325684,\n",
       " 1.100000023841858,\n",
       " 4.099999904632568,\n",
       " 2.200000047683716,\n",
       " 1.2000000476837158]"
      ]
     },
     "execution_count": 148,
     "metadata": {},
     "output_type": "execute_result"
    }
   ],
   "source": [
    "pd.unique(data[\"Bathroom\"]).tolist()"
   ]
  },
  {
   "cell_type": "code",
   "execution_count": 149,
   "metadata": {},
   "outputs": [
    {
     "data": {
      "text/plain": [
       "0        2\n",
       "3        3\n",
       "4        2\n",
       "5        2\n",
       "6        2\n",
       "        ..\n",
       "22674    3\n",
       "22675    3\n",
       "22676    1\n",
       "22679    2\n",
       "22680    3\n",
       "Name: Bathroom, Length: 15423, dtype: int64"
      ]
     },
     "execution_count": 149,
     "metadata": {},
     "output_type": "execute_result"
    }
   ],
   "source": [
    "data[\"Bathroom\"] == data[\"Bathroom\"].replace(0.75, 1, inplace=True)\n",
    "data[\"Bathroom\"] == data[\"Bathroom\"].replace(1.75, 2, inplace=True)\n",
    "data[\"Bathroom\"].astype(int)"
   ]
  },
  {
   "cell_type": "code",
   "execution_count": 150,
   "metadata": {},
   "outputs": [
    {
     "data": {
      "text/html": [
       "<div>\n",
       "<style scoped>\n",
       "    .dataframe tbody tr th:only-of-type {\n",
       "        vertical-align: middle;\n",
       "    }\n",
       "\n",
       "    .dataframe tbody tr th {\n",
       "        vertical-align: top;\n",
       "    }\n",
       "\n",
       "    .dataframe thead th {\n",
       "        text-align: right;\n",
       "    }\n",
       "</style>\n",
       "<table border=\"1\" class=\"dataframe\">\n",
       "  <thead>\n",
       "    <tr style=\"text-align: right;\">\n",
       "      <th></th>\n",
       "      <th>Bedroom</th>\n",
       "      <th>Bathroom</th>\n",
       "      <th>Area</th>\n",
       "      <th>PricePerSqft</th>\n",
       "      <th>LotArea</th>\n",
       "      <th>MarketEstimate</th>\n",
       "      <th>RentEstimate</th>\n",
       "      <th>ListedPrice</th>\n",
       "    </tr>\n",
       "  </thead>\n",
       "  <tbody>\n",
       "    <tr>\n",
       "      <th>count</th>\n",
       "      <td>15423.000000</td>\n",
       "      <td>15423.000000</td>\n",
       "      <td>15423.000000</td>\n",
       "      <td>15423.000000</td>\n",
       "      <td>14895.000000</td>\n",
       "      <td>1.542300e+04</td>\n",
       "      <td>15375.000000</td>\n",
       "      <td>1.542300e+04</td>\n",
       "    </tr>\n",
       "    <tr>\n",
       "      <th>mean</th>\n",
       "      <td>3.401089</td>\n",
       "      <td>2.426221</td>\n",
       "      <td>2106.492382</td>\n",
       "      <td>220.707336</td>\n",
       "      <td>2.052317</td>\n",
       "      <td>4.819454e+05</td>\n",
       "      <td>2636.429919</td>\n",
       "      <td>4.931051e+05</td>\n",
       "    </tr>\n",
       "    <tr>\n",
       "      <th>std</th>\n",
       "      <td>0.995348</td>\n",
       "      <td>1.076653</td>\n",
       "      <td>1211.863018</td>\n",
       "      <td>185.705792</td>\n",
       "      <td>12.879956</td>\n",
       "      <td>1.000828e+06</td>\n",
       "      <td>3628.106895</td>\n",
       "      <td>1.088933e+06</td>\n",
       "    </tr>\n",
       "    <tr>\n",
       "      <th>min</th>\n",
       "      <td>0.000000</td>\n",
       "      <td>0.000000</td>\n",
       "      <td>240.000000</td>\n",
       "      <td>5.880000</td>\n",
       "      <td>0.000000</td>\n",
       "      <td>1.570000e+04</td>\n",
       "      <td>155.000000</td>\n",
       "      <td>1.490000e+04</td>\n",
       "    </tr>\n",
       "    <tr>\n",
       "      <th>25%</th>\n",
       "      <td>3.000000</td>\n",
       "      <td>2.000000</td>\n",
       "      <td>1408.000000</td>\n",
       "      <td>134.470000</td>\n",
       "      <td>0.177146</td>\n",
       "      <td>2.306500e+05</td>\n",
       "      <td>1686.500000</td>\n",
       "      <td>2.350000e+05</td>\n",
       "    </tr>\n",
       "    <tr>\n",
       "      <th>50%</th>\n",
       "      <td>3.000000</td>\n",
       "      <td>2.000000</td>\n",
       "      <td>1860.000000</td>\n",
       "      <td>184.230000</td>\n",
       "      <td>0.290300</td>\n",
       "      <td>3.419000e+05</td>\n",
       "      <td>2197.000000</td>\n",
       "      <td>3.480000e+05</td>\n",
       "    </tr>\n",
       "    <tr>\n",
       "      <th>75%</th>\n",
       "      <td>4.000000</td>\n",
       "      <td>3.000000</td>\n",
       "      <td>2475.000000</td>\n",
       "      <td>254.385000</td>\n",
       "      <td>0.900000</td>\n",
       "      <td>4.995000e+05</td>\n",
       "      <td>2850.000000</td>\n",
       "      <td>4.999000e+05</td>\n",
       "    </tr>\n",
       "    <tr>\n",
       "      <th>max</th>\n",
       "      <td>18.000000</td>\n",
       "      <td>14.000000</td>\n",
       "      <td>25496.000000</td>\n",
       "      <td>5379.240000</td>\n",
       "      <td>700.000000</td>\n",
       "      <td>3.687690e+07</td>\n",
       "      <td>176194.000000</td>\n",
       "      <td>4.000000e+07</td>\n",
       "    </tr>\n",
       "  </tbody>\n",
       "</table>\n",
       "</div>"
      ],
      "text/plain": [
       "            Bedroom      Bathroom          Area  PricePerSqft       LotArea  \\\n",
       "count  15423.000000  15423.000000  15423.000000  15423.000000  14895.000000   \n",
       "mean       3.401089      2.426221   2106.492382    220.707336      2.052317   \n",
       "std        0.995348      1.076653   1211.863018    185.705792     12.879956   \n",
       "min        0.000000      0.000000    240.000000      5.880000      0.000000   \n",
       "25%        3.000000      2.000000   1408.000000    134.470000      0.177146   \n",
       "50%        3.000000      2.000000   1860.000000    184.230000      0.290300   \n",
       "75%        4.000000      3.000000   2475.000000    254.385000      0.900000   \n",
       "max       18.000000     14.000000  25496.000000   5379.240000    700.000000   \n",
       "\n",
       "       MarketEstimate   RentEstimate   ListedPrice  \n",
       "count    1.542300e+04   15375.000000  1.542300e+04  \n",
       "mean     4.819454e+05    2636.429919  4.931051e+05  \n",
       "std      1.000828e+06    3628.106895  1.088933e+06  \n",
       "min      1.570000e+04     155.000000  1.490000e+04  \n",
       "25%      2.306500e+05    1686.500000  2.350000e+05  \n",
       "50%      3.419000e+05    2197.000000  3.480000e+05  \n",
       "75%      4.995000e+05    2850.000000  4.999000e+05  \n",
       "max      3.687690e+07  176194.000000  4.000000e+07  "
      ]
     },
     "execution_count": 150,
     "metadata": {},
     "output_type": "execute_result"
    }
   ],
   "source": [
    "data.describe()"
   ]
  },
  {
   "attachments": {},
   "cell_type": "markdown",
   "metadata": {},
   "source": [
    "### Univariate Analysis of Categorical Columns"
   ]
  },
  {
   "cell_type": "code",
   "execution_count": 151,
   "metadata": {},
   "outputs": [
    {
     "data": {
      "text/html": [
       "<div>\n",
       "<style scoped>\n",
       "    .dataframe tbody tr th:only-of-type {\n",
       "        vertical-align: middle;\n",
       "    }\n",
       "\n",
       "    .dataframe tbody tr th {\n",
       "        vertical-align: top;\n",
       "    }\n",
       "\n",
       "    .dataframe thead th {\n",
       "        text-align: right;\n",
       "    }\n",
       "</style>\n",
       "<table border=\"1\" class=\"dataframe\">\n",
       "  <thead>\n",
       "    <tr style=\"text-align: right;\">\n",
       "      <th></th>\n",
       "      <th>State</th>\n",
       "      <th>City</th>\n",
       "      <th>Street</th>\n",
       "      <th>Zipcode</th>\n",
       "    </tr>\n",
       "  </thead>\n",
       "  <tbody>\n",
       "    <tr>\n",
       "      <th>0</th>\n",
       "      <td>AL</td>\n",
       "      <td>Saraland</td>\n",
       "      <td>Scott Dr</td>\n",
       "      <td>36571.0</td>\n",
       "    </tr>\n",
       "    <tr>\n",
       "      <th>3</th>\n",
       "      <td>AL</td>\n",
       "      <td>Chelsea</td>\n",
       "      <td>Mallet Way</td>\n",
       "      <td>35043.0</td>\n",
       "    </tr>\n",
       "    <tr>\n",
       "      <th>4</th>\n",
       "      <td>AL</td>\n",
       "      <td>Huntsville</td>\n",
       "      <td>Turtlebrook Ct</td>\n",
       "      <td>35811.0</td>\n",
       "    </tr>\n",
       "    <tr>\n",
       "      <th>5</th>\n",
       "      <td>AL</td>\n",
       "      <td>Montgomery</td>\n",
       "      <td>Brampton Ln</td>\n",
       "      <td>36117.0</td>\n",
       "    </tr>\n",
       "    <tr>\n",
       "      <th>6</th>\n",
       "      <td>AL</td>\n",
       "      <td>Boaz</td>\n",
       "      <td>Greenwood Ave</td>\n",
       "      <td>35957.0</td>\n",
       "    </tr>\n",
       "    <tr>\n",
       "      <th>...</th>\n",
       "      <td>...</td>\n",
       "      <td>...</td>\n",
       "      <td>...</td>\n",
       "      <td>...</td>\n",
       "    </tr>\n",
       "    <tr>\n",
       "      <th>22674</th>\n",
       "      <td>WY</td>\n",
       "      <td>Douglas</td>\n",
       "      <td>Bar Two Dr</td>\n",
       "      <td>82633.0</td>\n",
       "    </tr>\n",
       "    <tr>\n",
       "      <th>22675</th>\n",
       "      <td>WY</td>\n",
       "      <td>Riverton</td>\n",
       "      <td>Riverview Rd</td>\n",
       "      <td>82501.0</td>\n",
       "    </tr>\n",
       "    <tr>\n",
       "      <th>22676</th>\n",
       "      <td>WY</td>\n",
       "      <td>Burns</td>\n",
       "      <td>Road 210a</td>\n",
       "      <td>82053.0</td>\n",
       "    </tr>\n",
       "    <tr>\n",
       "      <th>22679</th>\n",
       "      <td>WY</td>\n",
       "      <td>Cheyenne</td>\n",
       "      <td>Carolina Rd</td>\n",
       "      <td>82009.0</td>\n",
       "    </tr>\n",
       "    <tr>\n",
       "      <th>22680</th>\n",
       "      <td>WY</td>\n",
       "      <td>Evansville</td>\n",
       "      <td>6th St</td>\n",
       "      <td>82636.0</td>\n",
       "    </tr>\n",
       "  </tbody>\n",
       "</table>\n",
       "<p>15423 rows × 4 columns</p>\n",
       "</div>"
      ],
      "text/plain": [
       "      State        City          Street  Zipcode\n",
       "0        AL    Saraland        Scott Dr  36571.0\n",
       "3        AL     Chelsea      Mallet Way  35043.0\n",
       "4        AL  Huntsville  Turtlebrook Ct  35811.0\n",
       "5        AL  Montgomery     Brampton Ln  36117.0\n",
       "6        AL        Boaz   Greenwood Ave  35957.0\n",
       "...     ...         ...             ...      ...\n",
       "22674    WY     Douglas      Bar Two Dr  82633.0\n",
       "22675    WY    Riverton    Riverview Rd  82501.0\n",
       "22676    WY       Burns       Road 210a  82053.0\n",
       "22679    WY    Cheyenne     Carolina Rd  82009.0\n",
       "22680    WY  Evansville          6th St  82636.0\n",
       "\n",
       "[15423 rows x 4 columns]"
      ]
     },
     "execution_count": 151,
     "metadata": {},
     "output_type": "execute_result"
    }
   ],
   "source": [
    "cat_col = data.select_dtypes(object)\n",
    "cat_col"
   ]
  },
  {
   "cell_type": "code",
   "execution_count": 152,
   "metadata": {},
   "outputs": [
    {
     "data": {
      "text/plain": [
       "Text(0.5, 1.0, 'State')"
      ]
     },
     "execution_count": 152,
     "metadata": {},
     "output_type": "execute_result"
    },
    {
     "data": {
      "image/png": "[encoded data removed]",
      "text/plain": [
       "<Figure size 640x480 with 1 Axes>"
      ]
     },
     "metadata": {},
     "output_type": "display_data"
    }
   ],
   "source": [
    "cat_col[\"State\"].value_counts().plot(kind=\"bar\")\n",
    "plt.title(\"State\")"
   ]
  },
  {
   "attachments": {},
   "cell_type": "markdown",
   "metadata": {},
   "source": [
    "We can see from the histogram that most of the data falls within the AK, MA, CA, AND MI states. These states likely have more listings compared to the other states."
   ]
  },
  {
   "attachments": {},
   "cell_type": "markdown",
   "metadata": {},
   "source": [
    "### Univariate Analysis of Numerical Columns"
   ]
  },
  {
   "cell_type": "code",
   "execution_count": 153,
   "metadata": {},
   "outputs": [
    {
     "data": {
      "text/html": [
       "<div>\n",
       "<style scoped>\n",
       "    .dataframe tbody tr th:only-of-type {\n",
       "        vertical-align: middle;\n",
       "    }\n",
       "\n",
       "    .dataframe tbody tr th {\n",
       "        vertical-align: top;\n",
       "    }\n",
       "\n",
       "    .dataframe thead th {\n",
       "        text-align: right;\n",
       "    }\n",
       "</style>\n",
       "<table border=\"1\" class=\"dataframe\">\n",
       "  <thead>\n",
       "    <tr style=\"text-align: right;\">\n",
       "      <th></th>\n",
       "      <th>Bedroom</th>\n",
       "      <th>Bathroom</th>\n",
       "      <th>Area</th>\n",
       "      <th>PricePerSqft</th>\n",
       "      <th>LotArea</th>\n",
       "      <th>MarketEstimate</th>\n",
       "      <th>RentEstimate</th>\n",
       "      <th>ListedPrice</th>\n",
       "    </tr>\n",
       "  </thead>\n",
       "  <tbody>\n",
       "    <tr>\n",
       "      <th>0</th>\n",
       "      <td>4</td>\n",
       "      <td>2.0</td>\n",
       "      <td>1614.0</td>\n",
       "      <td>148.64</td>\n",
       "      <td>0.3805</td>\n",
       "      <td>240600.0</td>\n",
       "      <td>1599.0</td>\n",
       "      <td>239900.0</td>\n",
       "    </tr>\n",
       "    <tr>\n",
       "      <th>3</th>\n",
       "      <td>3</td>\n",
       "      <td>3.0</td>\n",
       "      <td>2224.0</td>\n",
       "      <td>150.63</td>\n",
       "      <td>0.2600</td>\n",
       "      <td>336200.0</td>\n",
       "      <td>1932.0</td>\n",
       "      <td>335000.0</td>\n",
       "    </tr>\n",
       "    <tr>\n",
       "      <th>4</th>\n",
       "      <td>3</td>\n",
       "      <td>2.0</td>\n",
       "      <td>1225.0</td>\n",
       "      <td>204.08</td>\n",
       "      <td>NaN</td>\n",
       "      <td>222700.0</td>\n",
       "      <td>1679.0</td>\n",
       "      <td>250000.0</td>\n",
       "    </tr>\n",
       "    <tr>\n",
       "      <th>5</th>\n",
       "      <td>3</td>\n",
       "      <td>2.0</td>\n",
       "      <td>1564.0</td>\n",
       "      <td>96.55</td>\n",
       "      <td>0.2000</td>\n",
       "      <td>150500.0</td>\n",
       "      <td>1385.0</td>\n",
       "      <td>151000.0</td>\n",
       "    </tr>\n",
       "    <tr>\n",
       "      <th>6</th>\n",
       "      <td>3</td>\n",
       "      <td>2.0</td>\n",
       "      <td>1717.0</td>\n",
       "      <td>139.20</td>\n",
       "      <td>0.3800</td>\n",
       "      <td>238400.0</td>\n",
       "      <td>2125.0</td>\n",
       "      <td>239000.0</td>\n",
       "    </tr>\n",
       "    <tr>\n",
       "      <th>...</th>\n",
       "      <td>...</td>\n",
       "      <td>...</td>\n",
       "      <td>...</td>\n",
       "      <td>...</td>\n",
       "      <td>...</td>\n",
       "      <td>...</td>\n",
       "      <td>...</td>\n",
       "      <td>...</td>\n",
       "    </tr>\n",
       "    <tr>\n",
       "      <th>22674</th>\n",
       "      <td>3</td>\n",
       "      <td>3.0</td>\n",
       "      <td>2316.0</td>\n",
       "      <td>133.85</td>\n",
       "      <td>0.1500</td>\n",
       "      <td>306700.0</td>\n",
       "      <td>1724.0</td>\n",
       "      <td>310000.0</td>\n",
       "    </tr>\n",
       "    <tr>\n",
       "      <th>22675</th>\n",
       "      <td>3</td>\n",
       "      <td>3.0</td>\n",
       "      <td>2400.0</td>\n",
       "      <td>77.08</td>\n",
       "      <td>3.3500</td>\n",
       "      <td>184500.0</td>\n",
       "      <td>1999.0</td>\n",
       "      <td>185000.0</td>\n",
       "    </tr>\n",
       "    <tr>\n",
       "      <th>22676</th>\n",
       "      <td>2</td>\n",
       "      <td>1.0</td>\n",
       "      <td>1112.0</td>\n",
       "      <td>337.23</td>\n",
       "      <td>20.0000</td>\n",
       "      <td>368600.0</td>\n",
       "      <td>1500.0</td>\n",
       "      <td>375000.0</td>\n",
       "    </tr>\n",
       "    <tr>\n",
       "      <th>22679</th>\n",
       "      <td>3</td>\n",
       "      <td>2.0</td>\n",
       "      <td>2930.0</td>\n",
       "      <td>196.55</td>\n",
       "      <td>6.2300</td>\n",
       "      <td>558000.0</td>\n",
       "      <td>2749.0</td>\n",
       "      <td>575900.0</td>\n",
       "    </tr>\n",
       "    <tr>\n",
       "      <th>22680</th>\n",
       "      <td>3</td>\n",
       "      <td>3.0</td>\n",
       "      <td>2300.0</td>\n",
       "      <td>143.43</td>\n",
       "      <td>0.1739</td>\n",
       "      <td>329500.0</td>\n",
       "      <td>1614.0</td>\n",
       "      <td>329900.0</td>\n",
       "    </tr>\n",
       "  </tbody>\n",
       "</table>\n",
       "<p>15423 rows × 8 columns</p>\n",
       "</div>"
      ],
      "text/plain": [
       "       Bedroom  Bathroom    Area  PricePerSqft  LotArea  MarketEstimate  \\\n",
       "0            4       2.0  1614.0        148.64   0.3805        240600.0   \n",
       "3            3       3.0  2224.0        150.63   0.2600        336200.0   \n",
       "4            3       2.0  1225.0        204.08      NaN        222700.0   \n",
       "5            3       2.0  1564.0         96.55   0.2000        150500.0   \n",
       "6            3       2.0  1717.0        139.20   0.3800        238400.0   \n",
       "...        ...       ...     ...           ...      ...             ...   \n",
       "22674        3       3.0  2316.0        133.85   0.1500        306700.0   \n",
       "22675        3       3.0  2400.0         77.08   3.3500        184500.0   \n",
       "22676        2       1.0  1112.0        337.23  20.0000        368600.0   \n",
       "22679        3       2.0  2930.0        196.55   6.2300        558000.0   \n",
       "22680        3       3.0  2300.0        143.43   0.1739        329500.0   \n",
       "\n",
       "       RentEstimate  ListedPrice  \n",
       "0            1599.0     239900.0  \n",
       "3            1932.0     335000.0  \n",
       "4            1679.0     250000.0  \n",
       "5            1385.0     151000.0  \n",
       "6            2125.0     239000.0  \n",
       "...             ...          ...  \n",
       "22674        1724.0     310000.0  \n",
       "22675        1999.0     185000.0  \n",
       "22676        1500.0     375000.0  \n",
       "22679        2749.0     575900.0  \n",
       "22680        1614.0     329900.0  \n",
       "\n",
       "[15423 rows x 8 columns]"
      ]
     },
     "execution_count": 153,
     "metadata": {},
     "output_type": "execute_result"
    }
   ],
   "source": [
    "num_col = data.select_dtypes(np.number)\n",
    "num_col"
   ]
  },
  {
   "cell_type": "code",
   "execution_count": 154,
   "metadata": {},
   "outputs": [
    {
     "data": {
      "image/png": "[encoded data removed]",
      "text/plain": [
       "<Figure size 640x480 with 1 Axes>"
      ]
     },
     "metadata": {},
     "output_type": "display_data"
    },
    {
     "data": {
      "image/png": "[encoded data removed]",
      "text/plain": [
       "<Figure size 640x480 with 1 Axes>"
      ]
     },
     "metadata": {},
     "output_type": "display_data"
    },
    {
     "data": {
      "image/png": "[encoded data removed]",
      "text/plain": [
       "<Figure size 640x480 with 1 Axes>"
      ]
     },
     "metadata": {},
     "output_type": "display_data"
    },
    {
     "data": {
      "image/png": "[encoded data removed]",
      "text/plain": [
       "<Figure size 640x480 with 1 Axes>"
      ]
     },
     "metadata": {},
     "output_type": "display_data"
    },
    {
     "data": {
      "image/png": "[encoded data removed]",
      "text/plain": [
       "<Figure size 640x480 with 1 Axes>"
      ]
     },
     "metadata": {},
     "output_type": "display_data"
    },
    {
     "data": {
      "image/png": "[encoded data removed]",
      "text/plain": [
       "<Figure size 640x480 with 1 Axes>"
      ]
     },
     "metadata": {},
     "output_type": "display_data"
    },
    {
     "data": {
      "image/png": "[encoded data removed]",
      "text/plain": [
       "<Figure size 640x480 with 1 Axes>"
      ]
     },
     "metadata": {},
     "output_type": "display_data"
    },
    {
     "data": {
      "image/png": "[encoded data removed]",
      "text/plain": [
       "<Figure size 640x480 with 1 Axes>"
      ]
     },
     "metadata": {},
     "output_type": "display_data"
    }
   ],
   "source": [
    "for column in num_col:\n",
    "    plt.figure()\n",
    "    sns.histplot(num_col[column], kde=True)\n",
    "    plt.title(column)"
   ]
  },
  {
   "attachments": {},
   "cell_type": "markdown",
   "metadata": {},
   "source": [
    "#### Observations\n",
    "- All columns appear to be right-skewed. This skewness was expected, as mentioned earlier, due to the presence of outliers and data with an extreme range. \n",
    "- Most listings seem to fall under an area of about 2000sqft, with a price per sqft around $200.\n",
    "- The majority of listings feature 3 bedrooms and 2 bathrooms. This recurring pattern in the dataset indicates the typical house for residential properties.\n",
    "\n",
    "These observations were expected due to the nature of the dataset, with how majority of the data centers around normal ranging houses."
   ]
  },
  {
   "attachments": {},
   "cell_type": "markdown",
   "metadata": {},
   "source": [
    "### Correlation Matrix "
   ]
  },
  {
   "cell_type": "code",
   "execution_count": 155,
   "metadata": {},
   "outputs": [
    {
     "data": {
      "text/plain": [
       "<Axes: >"
      ]
     },
     "execution_count": 155,
     "metadata": {},
     "output_type": "execute_result"
    },
    {
     "data": {
      "image/png": "[encoded data removed]",
      "text/plain": [
       "<Figure size 640x480 with 2 Axes>"
      ]
     },
     "metadata": {},
     "output_type": "display_data"
    }
   ],
   "source": [
    "sns.heatmap(num_col.corr(), annot=True, vmin=-1, vmax=1, cmap=\"RdBu\")"
   ]
  },
  {
   "attachments": {},
   "cell_type": "markdown",
   "metadata": {},
   "source": [
    "Observations\n",
    "- Bathroom, Bedroom, Area, and PricePerSqft are features that seem to be highly correlated to the target, MarketEstimate"
   ]
  },
  {
   "attachments": {},
   "cell_type": "markdown",
   "metadata": {},
   "source": [
    "### Bivariate Analaysis of Numerical Columns (feature and target)"
   ]
  },
  {
   "cell_type": "code",
   "execution_count": 156,
   "metadata": {},
   "outputs": [
    {
     "data": {
      "image/png": "[encoded data removed]",
      "text/plain": [
       "<Figure size 1800x400 with 1 Axes>"
      ]
     },
     "metadata": {},
     "output_type": "display_data"
    }
   ],
   "source": [
    "plt.figure(figsize=(18,4))  \n",
    "plt.scatter(data[\"Area\"], data[\"MarketEstimate\"])\n",
    "plt.title (\"Area vs Market Estimate\")\n",
    "plt.xlabel(\"Area\")\n",
    "plt.ylabel(\"Market Estimate\")\n",
    "plt.show()"
   ]
  },
  {
   "attachments": {},
   "cell_type": "markdown",
   "metadata": {},
   "source": [
    "We can see that most of the data falls within the normal range house bracket with an area up to 7000sqft. However, there are other listings with the same amount of area, but a higher MarketEstimate and vice versa. This could be due to a number of external factors, like location."
   ]
  },
  {
   "attachments": {},
   "cell_type": "markdown",
   "metadata": {},
   "source": [
    "### Building a Linear Regression Model"
   ]
  },
  {
   "cell_type": "code",
   "execution_count": 157,
   "metadata": {},
   "outputs": [],
   "source": [
    "from sklearn.model_selection import train_test_split\n",
    "from sklearn.linear_model import LinearRegression"
   ]
  },
  {
   "cell_type": "code",
   "execution_count": 158,
   "metadata": {},
   "outputs": [],
   "source": [
    "reg = LinearRegression()"
   ]
  },
  {
   "attachments": {},
   "cell_type": "markdown",
   "metadata": {},
   "source": [
    "Splitting data into train and test sets"
   ]
  },
  {
   "cell_type": "code",
   "execution_count": 159,
   "metadata": {},
   "outputs": [],
   "source": [
    "x = data[[\"Area\"]]\n",
    "y = data[\"MarketEstimate\"]\n",
    "\n",
    "x_train, x_test, y_train, y_test = train_test_split(x, y, test_size=0.2, random_state=0)"
   ]
  },
  {
   "attachments": {},
   "cell_type": "markdown",
   "metadata": {},
   "source": [
    "Making predictions with the test set"
   ]
  },
  {
   "cell_type": "code",
   "execution_count": 160,
   "metadata": {},
   "outputs": [
    {
     "data": {
      "text/plain": [
       "array([ -66294.33, 1270726.34,  398144.43, ..., -137602.1 ,  721844.17,\n",
       "         45358.62])"
      ]
     },
     "execution_count": 160,
     "metadata": {},
     "output_type": "execute_result"
    }
   ],
   "source": [
    "reg.fit(x_train,y_train)\n",
    "predictions = reg.predict(x_test)\n",
    "predictions = predictions.round(2)\n",
    "predictions"
   ]
  },
  {
   "attachments": {},
   "cell_type": "markdown",
   "metadata": {},
   "source": [
    "Visualization of the model and predictions"
   ]
  },
  {
   "cell_type": "code",
   "execution_count": 161,
   "metadata": {},
   "outputs": [
    {
     "data": {
      "text/plain": [
       "[<matplotlib.lines.Line2D at 0x2a402a0e0>]"
      ]
     },
     "execution_count": 161,
     "metadata": {},
     "output_type": "execute_result"
    },
    {
     "data": {
      "image/png": "[encoded data removed]",
      "text/plain": [
       "<Figure size 640x480 with 1 Axes>"
      ]
     },
     "metadata": {},
     "output_type": "display_data"
    }
   ],
   "source": [
    "plt.scatter(x_test, y_test)\n",
    "plt.plot(x_test, predictions, color=\"red\")"
   ]
  },
  {
   "attachments": {},
   "cell_type": "markdown",
   "metadata": {},
   "source": [
    "### Measuring Model Accuracy"
   ]
  },
  {
   "cell_type": "code",
   "execution_count": 162,
   "metadata": {},
   "outputs": [
    {
     "data": {
      "text/plain": [
       "305412.08"
      ]
     },
     "execution_count": 162,
     "metadata": {},
     "output_type": "execute_result"
    }
   ],
   "source": [
    "from sklearn.metrics import mean_absolute_error\n",
    "from sklearn.metrics import r2_score\n",
    "\n",
    "error = mean_absolute_error(y_test, predictions).round(2)\n",
    "error"
   ]
  },
  {
   "cell_type": "code",
   "execution_count": 163,
   "metadata": {},
   "outputs": [
    {
     "data": {
      "text/plain": [
       "0.42369123000610753"
      ]
     },
     "execution_count": 163,
     "metadata": {},
     "output_type": "execute_result"
    }
   ],
   "source": [
    "r_score = r2_score(y_test, predictions)\n",
    "r_score"
   ]
  },
  {
   "cell_type": "code",
   "execution_count": 164,
   "metadata": {},
   "outputs": [
    {
     "data": {
      "text/plain": [
       "count    1.542300e+04\n",
       "mean     4.819454e+05\n",
       "std      1.000828e+06\n",
       "min      1.570000e+04\n",
       "25%      2.306500e+05\n",
       "50%      3.419000e+05\n",
       "75%      4.995000e+05\n",
       "max      3.687690e+07\n",
       "Name: MarketEstimate, dtype: float64"
      ]
     },
     "execution_count": 164,
     "metadata": {},
     "output_type": "execute_result"
    }
   ],
   "source": [
    "data[\"MarketEstimate\"].describe()"
   ]
  },
  {
   "attachments": {},
   "cell_type": "markdown",
   "metadata": {},
   "source": [
    "### Removing Outliers"
   ]
  },
  {
   "attachments": {},
   "cell_type": "markdown",
   "metadata": {},
   "source": [
    "I will try to remove the outliers from the dataset to see what impact removing the outliers have on the model."
   ]
  },
  {
   "cell_type": "code",
   "execution_count": 165,
   "metadata": {},
   "outputs": [
    {
     "data": {
      "text/html": [
       "<div>\n",
       "<style scoped>\n",
       "    .dataframe tbody tr th:only-of-type {\n",
       "        vertical-align: middle;\n",
       "    }\n",
       "\n",
       "    .dataframe tbody tr th {\n",
       "        vertical-align: top;\n",
       "    }\n",
       "\n",
       "    .dataframe thead th {\n",
       "        text-align: right;\n",
       "    }\n",
       "</style>\n",
       "<table border=\"1\" class=\"dataframe\">\n",
       "  <thead>\n",
       "    <tr style=\"text-align: right;\">\n",
       "      <th></th>\n",
       "      <th>State</th>\n",
       "      <th>City</th>\n",
       "      <th>Street</th>\n",
       "      <th>Zipcode</th>\n",
       "      <th>Bedroom</th>\n",
       "      <th>Bathroom</th>\n",
       "      <th>Area</th>\n",
       "      <th>PricePerSqft</th>\n",
       "      <th>LotArea</th>\n",
       "      <th>MarketEstimate</th>\n",
       "      <th>RentEstimate</th>\n",
       "      <th>ListedPrice</th>\n",
       "    </tr>\n",
       "  </thead>\n",
       "  <tbody>\n",
       "    <tr>\n",
       "      <th>444</th>\n",
       "      <td>AL</td>\n",
       "      <td>Fairhope</td>\n",
       "      <td>Beaver Creek Dr</td>\n",
       "      <td>36532.0</td>\n",
       "      <td>4</td>\n",
       "      <td>5.0</td>\n",
       "      <td>4317.0</td>\n",
       "      <td>463.28</td>\n",
       "      <td>0.980000</td>\n",
       "      <td>1979700.0</td>\n",
       "      <td>7783.0</td>\n",
       "      <td>2000000.0</td>\n",
       "    </tr>\n",
       "    <tr>\n",
       "      <th>513</th>\n",
       "      <td>AK</td>\n",
       "      <td>Wasilla</td>\n",
       "      <td>E Vision View Dr</td>\n",
       "      <td>99654.0</td>\n",
       "      <td>7</td>\n",
       "      <td>6.0</td>\n",
       "      <td>6538.0</td>\n",
       "      <td>183.54</td>\n",
       "      <td>2.000000</td>\n",
       "      <td>1197200.0</td>\n",
       "      <td>6314.0</td>\n",
       "      <td>1200000.0</td>\n",
       "    </tr>\n",
       "    <tr>\n",
       "      <th>556</th>\n",
       "      <td>AK</td>\n",
       "      <td>Anchorage</td>\n",
       "      <td>Victor Rd</td>\n",
       "      <td>99515.0</td>\n",
       "      <td>4</td>\n",
       "      <td>4.0</td>\n",
       "      <td>6906.0</td>\n",
       "      <td>289.60</td>\n",
       "      <td>1.350000</td>\n",
       "      <td>1996700.0</td>\n",
       "      <td>6984.0</td>\n",
       "      <td>2000000.0</td>\n",
       "    </tr>\n",
       "    <tr>\n",
       "      <th>582</th>\n",
       "      <td>AK</td>\n",
       "      <td>Anchorage</td>\n",
       "      <td>W Dimond Blvd</td>\n",
       "      <td>99502.0</td>\n",
       "      <td>4</td>\n",
       "      <td>6.0</td>\n",
       "      <td>5888.0</td>\n",
       "      <td>280.23</td>\n",
       "      <td>3.540000</td>\n",
       "      <td>1652000.0</td>\n",
       "      <td>5917.0</td>\n",
       "      <td>1650000.0</td>\n",
       "    </tr>\n",
       "    <tr>\n",
       "      <th>620</th>\n",
       "      <td>AK</td>\n",
       "      <td>Anchorage</td>\n",
       "      <td>W 100th Ave</td>\n",
       "      <td>99515.0</td>\n",
       "      <td>4</td>\n",
       "      <td>3.0</td>\n",
       "      <td>3490.0</td>\n",
       "      <td>381.09</td>\n",
       "      <td>0.550000</td>\n",
       "      <td>1325200.0</td>\n",
       "      <td>4844.0</td>\n",
       "      <td>1330000.0</td>\n",
       "    </tr>\n",
       "    <tr>\n",
       "      <th>...</th>\n",
       "      <td>...</td>\n",
       "      <td>...</td>\n",
       "      <td>...</td>\n",
       "      <td>...</td>\n",
       "      <td>...</td>\n",
       "      <td>...</td>\n",
       "      <td>...</td>\n",
       "      <td>...</td>\n",
       "      <td>...</td>\n",
       "      <td>...</td>\n",
       "      <td>...</td>\n",
       "      <td>...</td>\n",
       "    </tr>\n",
       "    <tr>\n",
       "      <th>22612</th>\n",
       "      <td>WY</td>\n",
       "      <td>Weston</td>\n",
       "      <td>Trail Creek Rd</td>\n",
       "      <td>82731.0</td>\n",
       "      <td>4</td>\n",
       "      <td>2.0</td>\n",
       "      <td>2175.0</td>\n",
       "      <td>620.69</td>\n",
       "      <td>82.000000</td>\n",
       "      <td>1249700.0</td>\n",
       "      <td>6699.0</td>\n",
       "      <td>1350000.0</td>\n",
       "    </tr>\n",
       "    <tr>\n",
       "      <th>22616</th>\n",
       "      <td>WY</td>\n",
       "      <td>Jackson</td>\n",
       "      <td>E Hall Ave</td>\n",
       "      <td>83001.0</td>\n",
       "      <td>3</td>\n",
       "      <td>3.0</td>\n",
       "      <td>1800.0</td>\n",
       "      <td>1361.11</td>\n",
       "      <td>0.090000</td>\n",
       "      <td>2443100.0</td>\n",
       "      <td>7324.0</td>\n",
       "      <td>2450000.0</td>\n",
       "    </tr>\n",
       "    <tr>\n",
       "      <th>22653</th>\n",
       "      <td>WY</td>\n",
       "      <td>Sheridan</td>\n",
       "      <td>Prestwick Dr</td>\n",
       "      <td>82801.0</td>\n",
       "      <td>3</td>\n",
       "      <td>2.0</td>\n",
       "      <td>3484.0</td>\n",
       "      <td>340.13</td>\n",
       "      <td>0.484298</td>\n",
       "      <td>1184000.0</td>\n",
       "      <td>4607.0</td>\n",
       "      <td>1185000.0</td>\n",
       "    </tr>\n",
       "    <tr>\n",
       "      <th>22662</th>\n",
       "      <td>WY</td>\n",
       "      <td>Bedford</td>\n",
       "      <td>Deer Rd</td>\n",
       "      <td>83112.0</td>\n",
       "      <td>7</td>\n",
       "      <td>6.0</td>\n",
       "      <td>10041.0</td>\n",
       "      <td>492.98</td>\n",
       "      <td>5.000000</td>\n",
       "      <td>4781100.0</td>\n",
       "      <td>11856.0</td>\n",
       "      <td>4950000.0</td>\n",
       "    </tr>\n",
       "    <tr>\n",
       "      <th>22667</th>\n",
       "      <td>WY</td>\n",
       "      <td>Wheatland</td>\n",
       "      <td>Sybille Creek Rd</td>\n",
       "      <td>82201.0</td>\n",
       "      <td>6</td>\n",
       "      <td>5.0</td>\n",
       "      <td>4848.0</td>\n",
       "      <td>189.77</td>\n",
       "      <td>40.000000</td>\n",
       "      <td>911200.0</td>\n",
       "      <td>4777.0</td>\n",
       "      <td>920000.0</td>\n",
       "    </tr>\n",
       "  </tbody>\n",
       "</table>\n",
       "<p>977 rows × 12 columns</p>\n",
       "</div>"
      ],
      "text/plain": [
       "      State       City            Street  Zipcode  Bedroom  Bathroom     Area  \\\n",
       "444      AL   Fairhope   Beaver Creek Dr  36532.0        4       5.0   4317.0   \n",
       "513      AK    Wasilla  E Vision View Dr  99654.0        7       6.0   6538.0   \n",
       "556      AK  Anchorage         Victor Rd  99515.0        4       4.0   6906.0   \n",
       "582      AK  Anchorage     W Dimond Blvd  99502.0        4       6.0   5888.0   \n",
       "620      AK  Anchorage       W 100th Ave  99515.0        4       3.0   3490.0   \n",
       "...     ...        ...               ...      ...      ...       ...      ...   \n",
       "22612    WY     Weston    Trail Creek Rd  82731.0        4       2.0   2175.0   \n",
       "22616    WY    Jackson        E Hall Ave  83001.0        3       3.0   1800.0   \n",
       "22653    WY   Sheridan      Prestwick Dr  82801.0        3       2.0   3484.0   \n",
       "22662    WY    Bedford           Deer Rd  83112.0        7       6.0  10041.0   \n",
       "22667    WY  Wheatland  Sybille Creek Rd  82201.0        6       5.0   4848.0   \n",
       "\n",
       "       PricePerSqft    LotArea  MarketEstimate  RentEstimate  ListedPrice  \n",
       "444          463.28   0.980000       1979700.0        7783.0    2000000.0  \n",
       "513          183.54   2.000000       1197200.0        6314.0    1200000.0  \n",
       "556          289.60   1.350000       1996700.0        6984.0    2000000.0  \n",
       "582          280.23   3.540000       1652000.0        5917.0    1650000.0  \n",
       "620          381.09   0.550000       1325200.0        4844.0    1330000.0  \n",
       "...             ...        ...             ...           ...          ...  \n",
       "22612        620.69  82.000000       1249700.0        6699.0    1350000.0  \n",
       "22616       1361.11   0.090000       2443100.0        7324.0    2450000.0  \n",
       "22653        340.13   0.484298       1184000.0        4607.0    1185000.0  \n",
       "22662        492.98   5.000000       4781100.0       11856.0    4950000.0  \n",
       "22667        189.77  40.000000        911200.0        4777.0     920000.0  \n",
       "\n",
       "[977 rows x 12 columns]"
      ]
     },
     "execution_count": 165,
     "metadata": {},
     "output_type": "execute_result"
    }
   ],
   "source": [
    "Q1 = data[\"MarketEstimate\"].quantile(0.25)\n",
    "Q3 = data[\"MarketEstimate\"].quantile(0.75)\n",
    "\n",
    "IQR = Q3 - Q1\n",
    "threshold = 1.5\n",
    "cleaned = data[(data[\"MarketEstimate\"] < Q1 - threshold * IQR) | (data[\"MarketEstimate\"] > Q3 + threshold * IQR)]\n",
    "cleaned"
   ]
  },
  {
   "cell_type": "code",
   "execution_count": 166,
   "metadata": {},
   "outputs": [],
   "source": [
    "x = cleaned[[\"Area\"]]\n",
    "y = cleaned[\"MarketEstimate\"]\n",
    "\n",
    "x_train, x_test, y_train, y_test = train_test_split(x, y, test_size=0.2, random_state=0)"
   ]
  },
  {
   "cell_type": "code",
   "execution_count": 167,
   "metadata": {},
   "outputs": [
    {
     "data": {
      "text/plain": [
       "<matplotlib.collections.PathCollection at 0x2a404ae30>"
      ]
     },
     "execution_count": 167,
     "metadata": {},
     "output_type": "execute_result"
    },
    {
     "data": {
      "image/png": "[encoded data removed]",
      "text/plain": [
       "<Figure size 640x480 with 1 Axes>"
      ]
     },
     "metadata": {},
     "output_type": "display_data"
    }
   ],
   "source": [
    "plt.scatter(x_test, y_test)"
   ]
  },
  {
   "cell_type": "code",
   "execution_count": 168,
   "metadata": {},
   "outputs": [
    {
     "data": {
      "text/html": [
       "<style>#sk-container-id-6 {color: black;}#sk-container-id-6 pre{padding: 0;}#sk-container-id-6 div.sk-toggleable {background-color: white;}#sk-container-id-6 label.sk-toggleable__label {cursor: pointer;display: block;width: 100%;margin-bottom: 0;padding: 0.3em;box-sizing: border-box;text-align: center;}#sk-container-id-6 label.sk-toggleable__label-arrow:before {content: \"▸\";float: left;margin-right: 0.25em;color: #696969;}#sk-container-id-6 label.sk-toggleable__label-arrow:hover:before {color: black;}#sk-container-id-6 div.sk-estimator:hover label.sk-toggleable__label-arrow:before {color: black;}#sk-container-id-6 div.sk-toggleable__content {max-height: 0;max-width: 0;overflow: hidden;text-align: left;background-color: #f0f8ff;}#sk-container-id-6 div.sk-toggleable__content pre {margin: 0.2em;color: black;border-radius: 0.25em;background-color: #f0f8ff;}#sk-container-id-6 input.sk-toggleable__control:checked~div.sk-toggleable__content {max-height: 200px;max-width: 100%;overflow: auto;}#sk-container-id-6 input.sk-toggleable__control:checked~label.sk-toggleable__label-arrow:before {content: \"▾\";}#sk-container-id-6 div.sk-estimator input.sk-toggleable__control:checked~label.sk-toggleable__label {background-color: #d4ebff;}#sk-container-id-6 div.sk-label input.sk-toggleable__control:checked~label.sk-toggleable__label {background-color: #d4ebff;}#sk-container-id-6 input.sk-hidden--visually {border: 0;clip: rect(1px 1px 1px 1px);clip: rect(1px, 1px, 1px, 1px);height: 1px;margin: -1px;overflow: hidden;padding: 0;position: absolute;width: 1px;}#sk-container-id-6 div.sk-estimator {font-family: monospace;background-color: #f0f8ff;border: 1px dotted black;border-radius: 0.25em;box-sizing: border-box;margin-bottom: 0.5em;}#sk-container-id-6 div.sk-estimator:hover {background-color: #d4ebff;}#sk-container-id-6 div.sk-parallel-item::after {content: \"\";width: 100%;border-bottom: 1px solid gray;flex-grow: 1;}#sk-container-id-6 div.sk-label:hover label.sk-toggleable__label {background-color: #d4ebff;}#sk-container-id-6 div.sk-serial::before {content: \"\";position: absolute;border-left: 1px solid gray;box-sizing: border-box;top: 0;bottom: 0;left: 50%;z-index: 0;}#sk-container-id-6 div.sk-serial {display: flex;flex-direction: column;align-items: center;background-color: white;padding-right: 0.2em;padding-left: 0.2em;position: relative;}#sk-container-id-6 div.sk-item {position: relative;z-index: 1;}#sk-container-id-6 div.sk-parallel {display: flex;align-items: stretch;justify-content: center;background-color: white;position: relative;}#sk-container-id-6 div.sk-item::before, #sk-container-id-6 div.sk-parallel-item::before {content: \"\";position: absolute;border-left: 1px solid gray;box-sizing: border-box;top: 0;bottom: 0;left: 50%;z-index: -1;}#sk-container-id-6 div.sk-parallel-item {display: flex;flex-direction: column;z-index: 1;position: relative;background-color: white;}#sk-container-id-6 div.sk-parallel-item:first-child::after {align-self: flex-end;width: 50%;}#sk-container-id-6 div.sk-parallel-item:last-child::after {align-self: flex-start;width: 50%;}#sk-container-id-6 div.sk-parallel-item:only-child::after {width: 0;}#sk-container-id-6 div.sk-dashed-wrapped {border: 1px dashed gray;margin: 0 0.4em 0.5em 0.4em;box-sizing: border-box;padding-bottom: 0.4em;background-color: white;}#sk-container-id-6 div.sk-label label {font-family: monospace;font-weight: bold;display: inline-block;line-height: 1.2em;}#sk-container-id-6 div.sk-label-container {text-align: center;}#sk-container-id-6 div.sk-container {/* jupyter's `normalize.less` sets `[hidden] { display: none; }` but bootstrap.min.css set `[hidden] { display: none !important; }` so we also need the `!important` here to be able to override the default hidden behavior on the sphinx rendered scikit-learn.org. See: https://github.com/scikit-learn/scikit-learn/issues/21755 */display: inline-block !important;position: relative;}#sk-container-id-6 div.sk-text-repr-fallback {display: none;}</style><div id=\"sk-container-id-6\" class=\"sk-top-container\"><div class=\"sk-text-repr-fallback\"><pre>LinearRegression()</pre><b>In a Jupyter environment, please rerun this cell to show the HTML representation or trust the notebook. <br />On GitHub, the HTML representation is unable to render, please try loading this page with nbviewer.org.</b></div><div class=\"sk-container\" hidden><div class=\"sk-item\"><div class=\"sk-estimator sk-toggleable\"><input class=\"sk-toggleable__control sk-hidden--visually\" id=\"sk-estimator-id-6\" type=\"checkbox\" checked><label for=\"sk-estimator-id-6\" class=\"sk-toggleable__label sk-toggleable__label-arrow\">LinearRegression</label><div class=\"sk-toggleable__content\"><pre>LinearRegression()</pre></div></div></div></div></div>"
      ],
      "text/plain": [
       "LinearRegression()"
      ]
     },
     "execution_count": 168,
     "metadata": {},
     "output_type": "execute_result"
    }
   ],
   "source": [
    "reg.fit(x_train, y_train)"
   ]
  },
  {
   "cell_type": "code",
   "execution_count": 169,
   "metadata": {},
   "outputs": [],
   "source": [
    "predictions = reg.predict(x_test)\n",
    "predictions = predictions.round(2)"
   ]
  },
  {
   "cell_type": "code",
   "execution_count": 170,
   "metadata": {},
   "outputs": [
    {
     "data": {
      "text/plain": [
       "1477865.995357143"
      ]
     },
     "execution_count": 170,
     "metadata": {},
     "output_type": "execute_result"
    }
   ],
   "source": [
    "error = mean_absolute_error(y_test, predictions)\n",
    "error"
   ]
  },
  {
   "cell_type": "code",
   "execution_count": 171,
   "metadata": {},
   "outputs": [
    {
     "data": {
      "text/plain": [
       "0.3915228729714818"
      ]
     },
     "execution_count": 171,
     "metadata": {},
     "output_type": "execute_result"
    }
   ],
   "source": [
    "r_score = r2_score(y_test, predictions)\n",
    "r_score"
   ]
  },
  {
   "attachments": {},
   "cell_type": "markdown",
   "metadata": {},
   "source": [
    "### Adding More Features"
   ]
  },
  {
   "attachments": {},
   "cell_type": "markdown",
   "metadata": {},
   "source": [
    "From the correlation matrix, we can see that \"Bedroom\", \"Bathroom\" and \"PricePerSqft\" are positively correlated with the target, Market Estimate. I will be adding these features to the model to investigate how the model's predictions change. "
   ]
  },
  {
   "cell_type": "code",
   "execution_count": 172,
   "metadata": {},
   "outputs": [],
   "source": [
    "x = data.iloc[:, 4:8]\n",
    "y = data[\"MarketEstimate\"]\n",
    "\n",
    "x_train, x_test, y_train, y_test = train_test_split(x, y, train_size = 0.8, random_state=None)"
   ]
  },
  {
   "cell_type": "code",
   "execution_count": 173,
   "metadata": {},
   "outputs": [
    {
     "data": {
      "text/html": [
       "<style>#sk-container-id-7 {color: black;}#sk-container-id-7 pre{padding: 0;}#sk-container-id-7 div.sk-toggleable {background-color: white;}#sk-container-id-7 label.sk-toggleable__label {cursor: pointer;display: block;width: 100%;margin-bottom: 0;padding: 0.3em;box-sizing: border-box;text-align: center;}#sk-container-id-7 label.sk-toggleable__label-arrow:before {content: \"▸\";float: left;margin-right: 0.25em;color: #696969;}#sk-container-id-7 label.sk-toggleable__label-arrow:hover:before {color: black;}#sk-container-id-7 div.sk-estimator:hover label.sk-toggleable__label-arrow:before {color: black;}#sk-container-id-7 div.sk-toggleable__content {max-height: 0;max-width: 0;overflow: hidden;text-align: left;background-color: #f0f8ff;}#sk-container-id-7 div.sk-toggleable__content pre {margin: 0.2em;color: black;border-radius: 0.25em;background-color: #f0f8ff;}#sk-container-id-7 input.sk-toggleable__control:checked~div.sk-toggleable__content {max-height: 200px;max-width: 100%;overflow: auto;}#sk-container-id-7 input.sk-toggleable__control:checked~label.sk-toggleable__label-arrow:before {content: \"▾\";}#sk-container-id-7 div.sk-estimator input.sk-toggleable__control:checked~label.sk-toggleable__label {background-color: #d4ebff;}#sk-container-id-7 div.sk-label input.sk-toggleable__control:checked~label.sk-toggleable__label {background-color: #d4ebff;}#sk-container-id-7 input.sk-hidden--visually {border: 0;clip: rect(1px 1px 1px 1px);clip: rect(1px, 1px, 1px, 1px);height: 1px;margin: -1px;overflow: hidden;padding: 0;position: absolute;width: 1px;}#sk-container-id-7 div.sk-estimator {font-family: monospace;background-color: #f0f8ff;border: 1px dotted black;border-radius: 0.25em;box-sizing: border-box;margin-bottom: 0.5em;}#sk-container-id-7 div.sk-estimator:hover {background-color: #d4ebff;}#sk-container-id-7 div.sk-parallel-item::after {content: \"\";width: 100%;border-bottom: 1px solid gray;flex-grow: 1;}#sk-container-id-7 div.sk-label:hover label.sk-toggleable__label {background-color: #d4ebff;}#sk-container-id-7 div.sk-serial::before {content: \"\";position: absolute;border-left: 1px solid gray;box-sizing: border-box;top: 0;bottom: 0;left: 50%;z-index: 0;}#sk-container-id-7 div.sk-serial {display: flex;flex-direction: column;align-items: center;background-color: white;padding-right: 0.2em;padding-left: 0.2em;position: relative;}#sk-container-id-7 div.sk-item {position: relative;z-index: 1;}#sk-container-id-7 div.sk-parallel {display: flex;align-items: stretch;justify-content: center;background-color: white;position: relative;}#sk-container-id-7 div.sk-item::before, #sk-container-id-7 div.sk-parallel-item::before {content: \"\";position: absolute;border-left: 1px solid gray;box-sizing: border-box;top: 0;bottom: 0;left: 50%;z-index: -1;}#sk-container-id-7 div.sk-parallel-item {display: flex;flex-direction: column;z-index: 1;position: relative;background-color: white;}#sk-container-id-7 div.sk-parallel-item:first-child::after {align-self: flex-end;width: 50%;}#sk-container-id-7 div.sk-parallel-item:last-child::after {align-self: flex-start;width: 50%;}#sk-container-id-7 div.sk-parallel-item:only-child::after {width: 0;}#sk-container-id-7 div.sk-dashed-wrapped {border: 1px dashed gray;margin: 0 0.4em 0.5em 0.4em;box-sizing: border-box;padding-bottom: 0.4em;background-color: white;}#sk-container-id-7 div.sk-label label {font-family: monospace;font-weight: bold;display: inline-block;line-height: 1.2em;}#sk-container-id-7 div.sk-label-container {text-align: center;}#sk-container-id-7 div.sk-container {/* jupyter's `normalize.less` sets `[hidden] { display: none; }` but bootstrap.min.css set `[hidden] { display: none !important; }` so we also need the `!important` here to be able to override the default hidden behavior on the sphinx rendered scikit-learn.org. See: https://github.com/scikit-learn/scikit-learn/issues/21755 */display: inline-block !important;position: relative;}#sk-container-id-7 div.sk-text-repr-fallback {display: none;}</style><div id=\"sk-container-id-7\" class=\"sk-top-container\"><div class=\"sk-text-repr-fallback\"><pre>LinearRegression()</pre><b>In a Jupyter environment, please rerun this cell to show the HTML representation or trust the notebook. <br />On GitHub, the HTML representation is unable to render, please try loading this page with nbviewer.org.</b></div><div class=\"sk-container\" hidden><div class=\"sk-item\"><div class=\"sk-estimator sk-toggleable\"><input class=\"sk-toggleable__control sk-hidden--visually\" id=\"sk-estimator-id-7\" type=\"checkbox\" checked><label for=\"sk-estimator-id-7\" class=\"sk-toggleable__label sk-toggleable__label-arrow\">LinearRegression</label><div class=\"sk-toggleable__content\"><pre>LinearRegression()</pre></div></div></div></div></div>"
      ],
      "text/plain": [
       "LinearRegression()"
      ]
     },
     "execution_count": 173,
     "metadata": {},
     "output_type": "execute_result"
    }
   ],
   "source": [
    "reg.fit(x_train, y_train)"
   ]
  },
  {
   "cell_type": "code",
   "execution_count": 174,
   "metadata": {},
   "outputs": [],
   "source": [
    "predictions = reg.predict(x_test)\n",
    "predictions = predictions.round(2)"
   ]
  },
  {
   "cell_type": "code",
   "execution_count": 175,
   "metadata": {},
   "outputs": [
    {
     "data": {
      "text/plain": [
       "226953.9930145867"
      ]
     },
     "execution_count": 175,
     "metadata": {},
     "output_type": "execute_result"
    }
   ],
   "source": [
    "error = mean_absolute_error(y_test, predictions)\n",
    "error"
   ]
  },
  {
   "cell_type": "code",
   "execution_count": 176,
   "metadata": {},
   "outputs": [
    {
     "data": {
      "text/plain": [
       "0.6595451169850417"
      ]
     },
     "execution_count": 176,
     "metadata": {},
     "output_type": "execute_result"
    }
   ],
   "source": [
    "\n",
    "r_score = r2_score(y_test, predictions)\n",
    "r_score"
   ]
  },
  {
   "attachments": {},
   "cell_type": "markdown",
   "metadata": {},
   "source": [
    "The linear regression model's performance metrics were assessed, revealing an initial mean absolute error (MAE) of 305412.08 and an R-squared (R2) score of 0.47. This indicated a level of inaccuracy in predictions, as reflected by the high MAE and a relatively low R2 score. The second approach of removing outliers resulted in a deterioration of performance. The MAE surged signifcicantly to 1477865.99 along with a lower strength of 0.39. This approach of did not improve the predictive ability of the model, but rather drastically increased the innaccuracies. On the contrary, the introduction of additional features to the model turned out to be a more successful strategy to increase the accuracy of the model. This is demonstrated with an increased R2 score of 0.66, and a lower MAE value signaling a reduction in prediction errors. \n",
    "\n",
    "In conclusion, the findings suggest that the model with more features, thereby incorporating additional data, considerably increased its predictive capabilities. \n",
    "\n",
    "On a side note, it is worth noting that the current model does not account for influential factors such as location, economic conditions, interest rates, and others, which could significantly impact MarketEstimate. Incorporating data pertaining to these factors could contribute to a more accurate and robust model for predicting MarketEstimate.\n"
   ]
  }
 ],
 "metadata": {
  "kernelspec": {
   "display_name": "base",
   "language": "python",
   "name": "python3"
  },
  "language_info": {
   "codemirror_mode": {
    "name": "ipython",
    "version": 3
   },
   "file_extension": ".py",
   "mimetype": "text/x-python",
   "name": "python",
   "nbconvert_exporter": "python",
   "pygments_lexer": "ipython3",
   "version": "3.10.10"
  },
  "orig_nbformat": 4
 },
 "nbformat": 4,
 "nbformat_minor": 2
}
